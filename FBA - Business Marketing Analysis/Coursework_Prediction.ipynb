{
  "nbformat": 4,
  "nbformat_minor": 0,
  "metadata": {
    "colab": {
      "provenance": []
    },
    "kernelspec": {
      "name": "python3",
      "display_name": "Python 3"
    },
    "language_info": {
      "name": "python"
    }
  },
  "cells": [
    {
      "cell_type": "markdown",
      "source": [
        "## **IMPORT ALL THE REQUIRED LIBRARIES**\n",
        "\n",
        "---\n",
        "*   **Pandas** to import data into a data frame.\n",
        "*   **sklearn** to run the model and predict output for new customers.\n",
        "*   **pickle** to import the model"
      ],
      "metadata": {
        "id": "A6OR4HRSSWBW"
      }
    },
    {
      "cell_type": "code",
      "execution_count": 76,
      "metadata": {
        "id": "2wg6tWRzQe-Z"
      },
      "outputs": [],
      "source": [
        "import pandas as pd\n",
        "import pickle"
      ]
    },
    {
      "cell_type": "markdown",
      "source": [
        "## **IMPORT DATA**\n",
        "\n",
        "---\n",
        "Paste the name of file in the INPUT_FILE here to import the data."
      ],
      "metadata": {
        "id": "5P0G9zNvUNzz"
      }
    },
    {
      "cell_type": "code",
      "source": [
        "data_to_predict = pd.read_csv('INPUT_FILE.csv')\n",
        "\n",
        "data_to_predict.head(10)"
      ],
      "metadata": {
        "colab": {
          "base_uri": "https://localhost:8080/",
          "height": 423
        },
        "id": "QQiTVNx1UbDO",
        "outputId": "179ca0c6-26db-45a9-cebd-cca6f6c5543e"
      },
      "execution_count": 77,
      "outputs": [
        {
          "output_type": "execute_result",
          "data": {
            "text/plain": [
              "   age           job   marital  education default  balance housing loan  \\\n",
              "0   45  entrepreneur   married   tertiary      no      169      no   no   \n",
              "1   66     housemaid   married    primary      no     1230      no   no   \n",
              "2   29   blue-collar  divorced  secondary      no     -300      no   no   \n",
              "3   35      services   married  secondary      no      341     yes   no   \n",
              "4   55      services   married   tertiary      no     2877      no   no   \n",
              "5   50      services   married    primary      no      -15      no  yes   \n",
              "6   33   blue-collar   married    primary      no       41     yes   no   \n",
              "7   32    management    single   tertiary      no     1493     yes   no   \n",
              "8   47    management    single   tertiary      no       86      no   no   \n",
              "9   37      services  divorced  secondary      no      398     yes  yes   \n",
              "\n",
              "    contact  day  duration  campaign  pdays  previous poutcome    y  \n",
              "0  cellular    7       391         4     -1         0  unknown   no  \n",
              "1  cellular   17       726         3     -1         0  unknown  yes  \n",
              "2   unknown   21       192         1     -1         0  unknown   no  \n",
              "3  cellular   14       345         1     -1         0  unknown  yes  \n",
              "4  cellular    9       305         1     91         2    other   no  \n",
              "5   unknown    2        71         1     -1         0  unknown   no  \n",
              "6  cellular   13       173         1     -1         0  unknown   no  \n",
              "7   unknown   28        65        11     -1         0  unknown   no  \n",
              "8  cellular    5       253         1     97         4  success  yes  \n",
              "9   unknown    5       214         2     -1         0  unknown   no  "
            ],
            "text/html": [
              "\n",
              "  <div id=\"df-3f51776b-fb67-44b9-a92f-fa15297ee6f7\">\n",
              "    <div class=\"colab-df-container\">\n",
              "      <div>\n",
              "<style scoped>\n",
              "    .dataframe tbody tr th:only-of-type {\n",
              "        vertical-align: middle;\n",
              "    }\n",
              "\n",
              "    .dataframe tbody tr th {\n",
              "        vertical-align: top;\n",
              "    }\n",
              "\n",
              "    .dataframe thead th {\n",
              "        text-align: right;\n",
              "    }\n",
              "</style>\n",
              "<table border=\"1\" class=\"dataframe\">\n",
              "  <thead>\n",
              "    <tr style=\"text-align: right;\">\n",
              "      <th></th>\n",
              "      <th>age</th>\n",
              "      <th>job</th>\n",
              "      <th>marital</th>\n",
              "      <th>education</th>\n",
              "      <th>default</th>\n",
              "      <th>balance</th>\n",
              "      <th>housing</th>\n",
              "      <th>loan</th>\n",
              "      <th>contact</th>\n",
              "      <th>day</th>\n",
              "      <th>duration</th>\n",
              "      <th>campaign</th>\n",
              "      <th>pdays</th>\n",
              "      <th>previous</th>\n",
              "      <th>poutcome</th>\n",
              "      <th>y</th>\n",
              "    </tr>\n",
              "  </thead>\n",
              "  <tbody>\n",
              "    <tr>\n",
              "      <th>0</th>\n",
              "      <td>45</td>\n",
              "      <td>entrepreneur</td>\n",
              "      <td>married</td>\n",
              "      <td>tertiary</td>\n",
              "      <td>no</td>\n",
              "      <td>169</td>\n",
              "      <td>no</td>\n",
              "      <td>no</td>\n",
              "      <td>cellular</td>\n",
              "      <td>7</td>\n",
              "      <td>391</td>\n",
              "      <td>4</td>\n",
              "      <td>-1</td>\n",
              "      <td>0</td>\n",
              "      <td>unknown</td>\n",
              "      <td>no</td>\n",
              "    </tr>\n",
              "    <tr>\n",
              "      <th>1</th>\n",
              "      <td>66</td>\n",
              "      <td>housemaid</td>\n",
              "      <td>married</td>\n",
              "      <td>primary</td>\n",
              "      <td>no</td>\n",
              "      <td>1230</td>\n",
              "      <td>no</td>\n",
              "      <td>no</td>\n",
              "      <td>cellular</td>\n",
              "      <td>17</td>\n",
              "      <td>726</td>\n",
              "      <td>3</td>\n",
              "      <td>-1</td>\n",
              "      <td>0</td>\n",
              "      <td>unknown</td>\n",
              "      <td>yes</td>\n",
              "    </tr>\n",
              "    <tr>\n",
              "      <th>2</th>\n",
              "      <td>29</td>\n",
              "      <td>blue-collar</td>\n",
              "      <td>divorced</td>\n",
              "      <td>secondary</td>\n",
              "      <td>no</td>\n",
              "      <td>-300</td>\n",
              "      <td>no</td>\n",
              "      <td>no</td>\n",
              "      <td>unknown</td>\n",
              "      <td>21</td>\n",
              "      <td>192</td>\n",
              "      <td>1</td>\n",
              "      <td>-1</td>\n",
              "      <td>0</td>\n",
              "      <td>unknown</td>\n",
              "      <td>no</td>\n",
              "    </tr>\n",
              "    <tr>\n",
              "      <th>3</th>\n",
              "      <td>35</td>\n",
              "      <td>services</td>\n",
              "      <td>married</td>\n",
              "      <td>secondary</td>\n",
              "      <td>no</td>\n",
              "      <td>341</td>\n",
              "      <td>yes</td>\n",
              "      <td>no</td>\n",
              "      <td>cellular</td>\n",
              "      <td>14</td>\n",
              "      <td>345</td>\n",
              "      <td>1</td>\n",
              "      <td>-1</td>\n",
              "      <td>0</td>\n",
              "      <td>unknown</td>\n",
              "      <td>yes</td>\n",
              "    </tr>\n",
              "    <tr>\n",
              "      <th>4</th>\n",
              "      <td>55</td>\n",
              "      <td>services</td>\n",
              "      <td>married</td>\n",
              "      <td>tertiary</td>\n",
              "      <td>no</td>\n",
              "      <td>2877</td>\n",
              "      <td>no</td>\n",
              "      <td>no</td>\n",
              "      <td>cellular</td>\n",
              "      <td>9</td>\n",
              "      <td>305</td>\n",
              "      <td>1</td>\n",
              "      <td>91</td>\n",
              "      <td>2</td>\n",
              "      <td>other</td>\n",
              "      <td>no</td>\n",
              "    </tr>\n",
              "    <tr>\n",
              "      <th>5</th>\n",
              "      <td>50</td>\n",
              "      <td>services</td>\n",
              "      <td>married</td>\n",
              "      <td>primary</td>\n",
              "      <td>no</td>\n",
              "      <td>-15</td>\n",
              "      <td>no</td>\n",
              "      <td>yes</td>\n",
              "      <td>unknown</td>\n",
              "      <td>2</td>\n",
              "      <td>71</td>\n",
              "      <td>1</td>\n",
              "      <td>-1</td>\n",
              "      <td>0</td>\n",
              "      <td>unknown</td>\n",
              "      <td>no</td>\n",
              "    </tr>\n",
              "    <tr>\n",
              "      <th>6</th>\n",
              "      <td>33</td>\n",
              "      <td>blue-collar</td>\n",
              "      <td>married</td>\n",
              "      <td>primary</td>\n",
              "      <td>no</td>\n",
              "      <td>41</td>\n",
              "      <td>yes</td>\n",
              "      <td>no</td>\n",
              "      <td>cellular</td>\n",
              "      <td>13</td>\n",
              "      <td>173</td>\n",
              "      <td>1</td>\n",
              "      <td>-1</td>\n",
              "      <td>0</td>\n",
              "      <td>unknown</td>\n",
              "      <td>no</td>\n",
              "    </tr>\n",
              "    <tr>\n",
              "      <th>7</th>\n",
              "      <td>32</td>\n",
              "      <td>management</td>\n",
              "      <td>single</td>\n",
              "      <td>tertiary</td>\n",
              "      <td>no</td>\n",
              "      <td>1493</td>\n",
              "      <td>yes</td>\n",
              "      <td>no</td>\n",
              "      <td>unknown</td>\n",
              "      <td>28</td>\n",
              "      <td>65</td>\n",
              "      <td>11</td>\n",
              "      <td>-1</td>\n",
              "      <td>0</td>\n",
              "      <td>unknown</td>\n",
              "      <td>no</td>\n",
              "    </tr>\n",
              "    <tr>\n",
              "      <th>8</th>\n",
              "      <td>47</td>\n",
              "      <td>management</td>\n",
              "      <td>single</td>\n",
              "      <td>tertiary</td>\n",
              "      <td>no</td>\n",
              "      <td>86</td>\n",
              "      <td>no</td>\n",
              "      <td>no</td>\n",
              "      <td>cellular</td>\n",
              "      <td>5</td>\n",
              "      <td>253</td>\n",
              "      <td>1</td>\n",
              "      <td>97</td>\n",
              "      <td>4</td>\n",
              "      <td>success</td>\n",
              "      <td>yes</td>\n",
              "    </tr>\n",
              "    <tr>\n",
              "      <th>9</th>\n",
              "      <td>37</td>\n",
              "      <td>services</td>\n",
              "      <td>divorced</td>\n",
              "      <td>secondary</td>\n",
              "      <td>no</td>\n",
              "      <td>398</td>\n",
              "      <td>yes</td>\n",
              "      <td>yes</td>\n",
              "      <td>unknown</td>\n",
              "      <td>5</td>\n",
              "      <td>214</td>\n",
              "      <td>2</td>\n",
              "      <td>-1</td>\n",
              "      <td>0</td>\n",
              "      <td>unknown</td>\n",
              "      <td>no</td>\n",
              "    </tr>\n",
              "  </tbody>\n",
              "</table>\n",
              "</div>\n",
              "      <button class=\"colab-df-convert\" onclick=\"convertToInteractive('df-3f51776b-fb67-44b9-a92f-fa15297ee6f7')\"\n",
              "              title=\"Convert this dataframe to an interactive table.\"\n",
              "              style=\"display:none;\">\n",
              "        \n",
              "  <svg xmlns=\"http://www.w3.org/2000/svg\" height=\"24px\"viewBox=\"0 0 24 24\"\n",
              "       width=\"24px\">\n",
              "    <path d=\"M0 0h24v24H0V0z\" fill=\"none\"/>\n",
              "    <path d=\"M18.56 5.44l.94 2.06.94-2.06 2.06-.94-2.06-.94-.94-2.06-.94 2.06-2.06.94zm-11 1L8.5 8.5l.94-2.06 2.06-.94-2.06-.94L8.5 2.5l-.94 2.06-2.06.94zm10 10l.94 2.06.94-2.06 2.06-.94-2.06-.94-.94-2.06-.94 2.06-2.06.94z\"/><path d=\"M17.41 7.96l-1.37-1.37c-.4-.4-.92-.59-1.43-.59-.52 0-1.04.2-1.43.59L10.3 9.45l-7.72 7.72c-.78.78-.78 2.05 0 2.83L4 21.41c.39.39.9.59 1.41.59.51 0 1.02-.2 1.41-.59l7.78-7.78 2.81-2.81c.8-.78.8-2.07 0-2.86zM5.41 20L4 18.59l7.72-7.72 1.47 1.35L5.41 20z\"/>\n",
              "  </svg>\n",
              "      </button>\n",
              "      \n",
              "  <style>\n",
              "    .colab-df-container {\n",
              "      display:flex;\n",
              "      flex-wrap:wrap;\n",
              "      gap: 12px;\n",
              "    }\n",
              "\n",
              "    .colab-df-convert {\n",
              "      background-color: #E8F0FE;\n",
              "      border: none;\n",
              "      border-radius: 50%;\n",
              "      cursor: pointer;\n",
              "      display: none;\n",
              "      fill: #1967D2;\n",
              "      height: 32px;\n",
              "      padding: 0 0 0 0;\n",
              "      width: 32px;\n",
              "    }\n",
              "\n",
              "    .colab-df-convert:hover {\n",
              "      background-color: #E2EBFA;\n",
              "      box-shadow: 0px 1px 2px rgba(60, 64, 67, 0.3), 0px 1px 3px 1px rgba(60, 64, 67, 0.15);\n",
              "      fill: #174EA6;\n",
              "    }\n",
              "\n",
              "    [theme=dark] .colab-df-convert {\n",
              "      background-color: #3B4455;\n",
              "      fill: #D2E3FC;\n",
              "    }\n",
              "\n",
              "    [theme=dark] .colab-df-convert:hover {\n",
              "      background-color: #434B5C;\n",
              "      box-shadow: 0px 1px 3px 1px rgba(0, 0, 0, 0.15);\n",
              "      filter: drop-shadow(0px 1px 2px rgba(0, 0, 0, 0.3));\n",
              "      fill: #FFFFFF;\n",
              "    }\n",
              "  </style>\n",
              "\n",
              "      <script>\n",
              "        const buttonEl =\n",
              "          document.querySelector('#df-3f51776b-fb67-44b9-a92f-fa15297ee6f7 button.colab-df-convert');\n",
              "        buttonEl.style.display =\n",
              "          google.colab.kernel.accessAllowed ? 'block' : 'none';\n",
              "\n",
              "        async function convertToInteractive(key) {\n",
              "          const element = document.querySelector('#df-3f51776b-fb67-44b9-a92f-fa15297ee6f7');\n",
              "          const dataTable =\n",
              "            await google.colab.kernel.invokeFunction('convertToInteractive',\n",
              "                                                     [key], {});\n",
              "          if (!dataTable) return;\n",
              "\n",
              "          const docLinkHtml = 'Like what you see? Visit the ' +\n",
              "            '<a target=\"_blank\" href=https://colab.research.google.com/notebooks/data_table.ipynb>data table notebook</a>'\n",
              "            + ' to learn more about interactive tables.';\n",
              "          element.innerHTML = '';\n",
              "          dataTable['output_type'] = 'display_data';\n",
              "          await google.colab.output.renderOutput(dataTable, element);\n",
              "          const docLink = document.createElement('div');\n",
              "          docLink.innerHTML = docLinkHtml;\n",
              "          element.appendChild(docLink);\n",
              "        }\n",
              "      </script>\n",
              "    </div>\n",
              "  </div>\n",
              "  "
            ]
          },
          "metadata": {},
          "execution_count": 77
        }
      ]
    },
    {
      "cell_type": "markdown",
      "source": [
        "Further steps will assume all feature names are as same the features provided for training data and that there is no output variable 'y' and also input variable duration. If your data has by any chance, remove it by running below code block."
      ],
      "metadata": {
        "id": "gCgYeQTJUgar"
      }
    },
    {
      "cell_type": "code",
      "source": [
        "# y_test = data_to_predict.loc[:, data_to_predict.columns == 'y']\n",
        "\n",
        "data_to_predict = data_to_predict.loc[:, data_to_predict.columns != 'y']\n",
        "data_to_predict = data_to_predict.loc[:, data_to_predict.columns != 'duration']"
      ],
      "metadata": {
        "id": "I_Xjl7XgU0l2"
      },
      "execution_count": 78,
      "outputs": []
    },
    {
      "cell_type": "markdown",
      "source": [
        "## **ENCODING DATA**\n",
        "\n",
        "---\n",
        "Just to match our model, the data will be encoded as it was done for the training data. Run the below code for the same."
      ],
      "metadata": {
        "id": "97o2iNGQU8Xy"
      }
    },
    {
      "cell_type": "markdown",
      "source": [
        "Important note before encoding: This is the order of encoding done for the model. Each category starts from 0 and is incremented by 1. Please add a different value if your data has any other value other than presented here:\n",
        "\n",
        "*   array(['admin.', 'blue-collar', 'entrepreneur', 'housemaid', 'management','retired', 'self-employed', 'services', 'student', 'technician','unemployed', 'unknown'], dtype=object),\n",
        " *   array(['divorced', 'married', 'single'], dtype=object),\n",
        " *   array(['primary', 'secondary', 'tertiary', 'unknown'], dtype=object),\n",
        " *   array(['no', 'yes'], dtype=object),\n",
        " *   array(['no', 'yes'], dtype=object),\n",
        " *   array(['no', 'yes'], dtype=object),\n",
        " *   array(['cellular', 'telephone', 'unknown'], dtype=object),\n",
        " *   array(['failure', 'other', 'success', 'unknown'], dtype=object),\n",
        " *   array(['no', 'yes'], dtype=object)"
      ],
      "metadata": {
        "id": "K5RVUmKjEm6b"
      }
    },
    {
      "cell_type": "code",
      "source": [
        "#Encoding\n",
        "from sklearn.preprocessing import OrdinalEncoder\n",
        "\n",
        "\n",
        "encoded_data = data_to_predict.copy()\n",
        "ord_enc = OrdinalEncoder(dtype=int)\n",
        "encoded_data[[\"job\",\"marital\",\"education\",\"default\",\"housing\",\"loan\",\"contact\",\"poutcome\"]] = ord_enc.fit_transform(data_to_predict[[\"job\",\"marital\",\"education\",\"default\",\"housing\",\"loan\",\"contact\",\"poutcome\"]])\n",
        "# y_test[[\"y\"]] = ord_enc.fit_transform(y_test[[\"y\"]])\n",
        "\n"
      ],
      "metadata": {
        "id": "d6ghR3iCVJgJ"
      },
      "execution_count": 79,
      "outputs": []
    },
    {
      "cell_type": "markdown",
      "source": [
        "## **IMPORT MODEL**\n",
        "\n",
        "---\n",
        "Import the model provided in the zip file and run the below code to initialize the model."
      ],
      "metadata": {
        "id": "H4JhVEpFVwB6"
      }
    },
    {
      "cell_type": "code",
      "source": [
        "#Upload the provided model and import it by running below code.\n",
        "model = pickle.load(open('model.pkl', 'rb'))"
      ],
      "metadata": {
        "id": "96K8Oge4VxOp"
      },
      "execution_count": 80,
      "outputs": []
    },
    {
      "cell_type": "markdown",
      "source": [
        "## **PREDICTING**\n",
        "\n",
        "---\n",
        "Predict if the customers will invest in the fixed term plan :)"
      ],
      "metadata": {
        "id": "6BTncX6HVrVR"
      }
    },
    {
      "cell_type": "code",
      "source": [
        "#Predict on data\n",
        "y_pred = model.predict(encoded_data);\n",
        "\n",
        "# from sklearn.metrics import confusion_matrix\n",
        " \n",
        "# cm = confusion_matrix(y_test['y'].values,y_pred)\n",
        "# cm\n",
        "\n"
      ],
      "metadata": {
        "id": "H_642MQkVs1O"
      },
      "execution_count": 81,
      "outputs": []
    },
    {
      "cell_type": "code",
      "source": [
        "print(y_pred[1:10])"
      ],
      "metadata": {
        "colab": {
          "base_uri": "https://localhost:8080/"
        },
        "id": "bq9ztsWkW775",
        "outputId": "2a7091f9-48b2-452c-bd16-1dd019960fdf"
      },
      "execution_count": 83,
      "outputs": [
        {
          "output_type": "stream",
          "name": "stdout",
          "text": [
            "[0 0 0 1 0 0 0 1 0]\n"
          ]
        }
      ]
    }
  ]
}