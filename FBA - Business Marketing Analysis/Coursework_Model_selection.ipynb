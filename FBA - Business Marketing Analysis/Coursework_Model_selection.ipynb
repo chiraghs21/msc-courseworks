{
  "nbformat": 4,
  "nbformat_minor": 0,
  "metadata": {
    "colab": {
      "provenance": []
    },
    "kernelspec": {
      "name": "python3",
      "display_name": "Python 3"
    },
    "language_info": {
      "name": "python"
    }
  },
  "cells": [
    {
      "cell_type": "markdown",
      "source": [
        "## **IMPORT ALL THE REQUIRED LIBRARIES**\n",
        "\n",
        "---\n",
        "*   **Pandas** to import data into a data frame and manipulate the data.\n",
        "*   **Seaborn** and **matplotlib** to visualise the data and perform analysis.\n",
        "*   **sklearn** to fit data into different models."
      ],
      "metadata": {
        "id": "Y56igIUBvIdc"
      }
    },
    {
      "cell_type": "code",
      "source": [
        "import pandas as pd\n",
        "import seaborn as sns\n",
        "import matplotlib.pyplot as plt\n",
        "from sklearn.preprocessing import MinMaxScaler\n",
        "from sklearn.tree import DecisionTreeClassifier \n",
        "from sklearn import tree\n",
        "from sklearn import linear_model\n",
        "from sklearn.model_selection import KFold\n",
        "from sklearn.ensemble import RandomForestClassifier\n",
        "from sklearn.neighbors import KNeighborsClassifier\n",
        "from sklearn.metrics import confusion_matrix\n",
        "from sklearn.metrics import classification_report"
      ],
      "metadata": {
        "id": "UGiPNGdKT2-i"
      },
      "execution_count": 2,
      "outputs": []
    },
    {
      "cell_type": "markdown",
      "source": [
        "## **IMPORT DATA**\n",
        "\n",
        "---\n",
        "\n",
        "Import the csv data provided into pandas dataframe and check first 10 rows."
      ],
      "metadata": {
        "id": "Yap13Ni4vsN8"
      }
    },
    {
      "cell_type": "code",
      "execution_count": 3,
      "metadata": {
        "colab": {
          "base_uri": "https://localhost:8080/",
          "height": 440
        },
        "id": "gYiprSp6TJdW",
        "outputId": "deba9790-9c0d-4844-96b4-c19b07be8eb1"
      },
      "outputs": [
        {
          "output_type": "execute_result",
          "data": {
            "text/plain": [
              "   age            job   marital  education default  balance housing loan  \\\n",
              "0   50       services   married    primary      no      -15      no  yes   \n",
              "1   33    blue-collar   married    primary      no       41     yes   no   \n",
              "2   32     management    single   tertiary      no     1493     yes   no   \n",
              "3   47     management    single   tertiary      no       86      no   no   \n",
              "4   37       services  divorced  secondary      no      398     yes  yes   \n",
              "5   30     technician  divorced  secondary      no        0      no   no   \n",
              "6   52     management   married   tertiary      no     1111      no   no   \n",
              "7   34    blue-collar   married  secondary      no      205     yes  yes   \n",
              "8   34     technician  divorced  secondary      no      136     yes   no   \n",
              "9   34  self-employed   married    primary      no     7468     yes  yes   \n",
              "\n",
              "    contact  day  duration  campaign  pdays  previous poutcome    y  \n",
              "0   unknown    2        71         1     -1         0  unknown   no  \n",
              "1  cellular   13       173         1     -1         0  unknown   no  \n",
              "2   unknown   28        65        11     -1         0  unknown   no  \n",
              "3  cellular    5       253         1     97         4  success  yes  \n",
              "4   unknown    5       214         2     -1         0  unknown   no  \n",
              "5  cellular   21       101         1     -1         0  unknown   no  \n",
              "6   unknown    5        17         1     -1         0  unknown   no  \n",
              "7  cellular    7       309         1     -1         0  unknown   no  \n",
              "8  cellular    8       136         2     -1         0  unknown   no  \n",
              "9  cellular   30       383         1     -1         0  unknown  yes  "
            ],
            "text/html": [
              "\n",
              "  <div id=\"df-4d374279-4bb2-45a3-aebf-c69d5a81af98\">\n",
              "    <div class=\"colab-df-container\">\n",
              "      <div>\n",
              "<style scoped>\n",
              "    .dataframe tbody tr th:only-of-type {\n",
              "        vertical-align: middle;\n",
              "    }\n",
              "\n",
              "    .dataframe tbody tr th {\n",
              "        vertical-align: top;\n",
              "    }\n",
              "\n",
              "    .dataframe thead th {\n",
              "        text-align: right;\n",
              "    }\n",
              "</style>\n",
              "<table border=\"1\" class=\"dataframe\">\n",
              "  <thead>\n",
              "    <tr style=\"text-align: right;\">\n",
              "      <th></th>\n",
              "      <th>age</th>\n",
              "      <th>job</th>\n",
              "      <th>marital</th>\n",
              "      <th>education</th>\n",
              "      <th>default</th>\n",
              "      <th>balance</th>\n",
              "      <th>housing</th>\n",
              "      <th>loan</th>\n",
              "      <th>contact</th>\n",
              "      <th>day</th>\n",
              "      <th>duration</th>\n",
              "      <th>campaign</th>\n",
              "      <th>pdays</th>\n",
              "      <th>previous</th>\n",
              "      <th>poutcome</th>\n",
              "      <th>y</th>\n",
              "    </tr>\n",
              "  </thead>\n",
              "  <tbody>\n",
              "    <tr>\n",
              "      <th>0</th>\n",
              "      <td>50</td>\n",
              "      <td>services</td>\n",
              "      <td>married</td>\n",
              "      <td>primary</td>\n",
              "      <td>no</td>\n",
              "      <td>-15</td>\n",
              "      <td>no</td>\n",
              "      <td>yes</td>\n",
              "      <td>unknown</td>\n",
              "      <td>2</td>\n",
              "      <td>71</td>\n",
              "      <td>1</td>\n",
              "      <td>-1</td>\n",
              "      <td>0</td>\n",
              "      <td>unknown</td>\n",
              "      <td>no</td>\n",
              "    </tr>\n",
              "    <tr>\n",
              "      <th>1</th>\n",
              "      <td>33</td>\n",
              "      <td>blue-collar</td>\n",
              "      <td>married</td>\n",
              "      <td>primary</td>\n",
              "      <td>no</td>\n",
              "      <td>41</td>\n",
              "      <td>yes</td>\n",
              "      <td>no</td>\n",
              "      <td>cellular</td>\n",
              "      <td>13</td>\n",
              "      <td>173</td>\n",
              "      <td>1</td>\n",
              "      <td>-1</td>\n",
              "      <td>0</td>\n",
              "      <td>unknown</td>\n",
              "      <td>no</td>\n",
              "    </tr>\n",
              "    <tr>\n",
              "      <th>2</th>\n",
              "      <td>32</td>\n",
              "      <td>management</td>\n",
              "      <td>single</td>\n",
              "      <td>tertiary</td>\n",
              "      <td>no</td>\n",
              "      <td>1493</td>\n",
              "      <td>yes</td>\n",
              "      <td>no</td>\n",
              "      <td>unknown</td>\n",
              "      <td>28</td>\n",
              "      <td>65</td>\n",
              "      <td>11</td>\n",
              "      <td>-1</td>\n",
              "      <td>0</td>\n",
              "      <td>unknown</td>\n",
              "      <td>no</td>\n",
              "    </tr>\n",
              "    <tr>\n",
              "      <th>3</th>\n",
              "      <td>47</td>\n",
              "      <td>management</td>\n",
              "      <td>single</td>\n",
              "      <td>tertiary</td>\n",
              "      <td>no</td>\n",
              "      <td>86</td>\n",
              "      <td>no</td>\n",
              "      <td>no</td>\n",
              "      <td>cellular</td>\n",
              "      <td>5</td>\n",
              "      <td>253</td>\n",
              "      <td>1</td>\n",
              "      <td>97</td>\n",
              "      <td>4</td>\n",
              "      <td>success</td>\n",
              "      <td>yes</td>\n",
              "    </tr>\n",
              "    <tr>\n",
              "      <th>4</th>\n",
              "      <td>37</td>\n",
              "      <td>services</td>\n",
              "      <td>divorced</td>\n",
              "      <td>secondary</td>\n",
              "      <td>no</td>\n",
              "      <td>398</td>\n",
              "      <td>yes</td>\n",
              "      <td>yes</td>\n",
              "      <td>unknown</td>\n",
              "      <td>5</td>\n",
              "      <td>214</td>\n",
              "      <td>2</td>\n",
              "      <td>-1</td>\n",
              "      <td>0</td>\n",
              "      <td>unknown</td>\n",
              "      <td>no</td>\n",
              "    </tr>\n",
              "    <tr>\n",
              "      <th>5</th>\n",
              "      <td>30</td>\n",
              "      <td>technician</td>\n",
              "      <td>divorced</td>\n",
              "      <td>secondary</td>\n",
              "      <td>no</td>\n",
              "      <td>0</td>\n",
              "      <td>no</td>\n",
              "      <td>no</td>\n",
              "      <td>cellular</td>\n",
              "      <td>21</td>\n",
              "      <td>101</td>\n",
              "      <td>1</td>\n",
              "      <td>-1</td>\n",
              "      <td>0</td>\n",
              "      <td>unknown</td>\n",
              "      <td>no</td>\n",
              "    </tr>\n",
              "    <tr>\n",
              "      <th>6</th>\n",
              "      <td>52</td>\n",
              "      <td>management</td>\n",
              "      <td>married</td>\n",
              "      <td>tertiary</td>\n",
              "      <td>no</td>\n",
              "      <td>1111</td>\n",
              "      <td>no</td>\n",
              "      <td>no</td>\n",
              "      <td>unknown</td>\n",
              "      <td>5</td>\n",
              "      <td>17</td>\n",
              "      <td>1</td>\n",
              "      <td>-1</td>\n",
              "      <td>0</td>\n",
              "      <td>unknown</td>\n",
              "      <td>no</td>\n",
              "    </tr>\n",
              "    <tr>\n",
              "      <th>7</th>\n",
              "      <td>34</td>\n",
              "      <td>blue-collar</td>\n",
              "      <td>married</td>\n",
              "      <td>secondary</td>\n",
              "      <td>no</td>\n",
              "      <td>205</td>\n",
              "      <td>yes</td>\n",
              "      <td>yes</td>\n",
              "      <td>cellular</td>\n",
              "      <td>7</td>\n",
              "      <td>309</td>\n",
              "      <td>1</td>\n",
              "      <td>-1</td>\n",
              "      <td>0</td>\n",
              "      <td>unknown</td>\n",
              "      <td>no</td>\n",
              "    </tr>\n",
              "    <tr>\n",
              "      <th>8</th>\n",
              "      <td>34</td>\n",
              "      <td>technician</td>\n",
              "      <td>divorced</td>\n",
              "      <td>secondary</td>\n",
              "      <td>no</td>\n",
              "      <td>136</td>\n",
              "      <td>yes</td>\n",
              "      <td>no</td>\n",
              "      <td>cellular</td>\n",
              "      <td>8</td>\n",
              "      <td>136</td>\n",
              "      <td>2</td>\n",
              "      <td>-1</td>\n",
              "      <td>0</td>\n",
              "      <td>unknown</td>\n",
              "      <td>no</td>\n",
              "    </tr>\n",
              "    <tr>\n",
              "      <th>9</th>\n",
              "      <td>34</td>\n",
              "      <td>self-employed</td>\n",
              "      <td>married</td>\n",
              "      <td>primary</td>\n",
              "      <td>no</td>\n",
              "      <td>7468</td>\n",
              "      <td>yes</td>\n",
              "      <td>yes</td>\n",
              "      <td>cellular</td>\n",
              "      <td>30</td>\n",
              "      <td>383</td>\n",
              "      <td>1</td>\n",
              "      <td>-1</td>\n",
              "      <td>0</td>\n",
              "      <td>unknown</td>\n",
              "      <td>yes</td>\n",
              "    </tr>\n",
              "  </tbody>\n",
              "</table>\n",
              "</div>\n",
              "      <button class=\"colab-df-convert\" onclick=\"convertToInteractive('df-4d374279-4bb2-45a3-aebf-c69d5a81af98')\"\n",
              "              title=\"Convert this dataframe to an interactive table.\"\n",
              "              style=\"display:none;\">\n",
              "        \n",
              "  <svg xmlns=\"http://www.w3.org/2000/svg\" height=\"24px\"viewBox=\"0 0 24 24\"\n",
              "       width=\"24px\">\n",
              "    <path d=\"M0 0h24v24H0V0z\" fill=\"none\"/>\n",
              "    <path d=\"M18.56 5.44l.94 2.06.94-2.06 2.06-.94-2.06-.94-.94-2.06-.94 2.06-2.06.94zm-11 1L8.5 8.5l.94-2.06 2.06-.94-2.06-.94L8.5 2.5l-.94 2.06-2.06.94zm10 10l.94 2.06.94-2.06 2.06-.94-2.06-.94-.94-2.06-.94 2.06-2.06.94z\"/><path d=\"M17.41 7.96l-1.37-1.37c-.4-.4-.92-.59-1.43-.59-.52 0-1.04.2-1.43.59L10.3 9.45l-7.72 7.72c-.78.78-.78 2.05 0 2.83L4 21.41c.39.39.9.59 1.41.59.51 0 1.02-.2 1.41-.59l7.78-7.78 2.81-2.81c.8-.78.8-2.07 0-2.86zM5.41 20L4 18.59l7.72-7.72 1.47 1.35L5.41 20z\"/>\n",
              "  </svg>\n",
              "      </button>\n",
              "      \n",
              "  <style>\n",
              "    .colab-df-container {\n",
              "      display:flex;\n",
              "      flex-wrap:wrap;\n",
              "      gap: 12px;\n",
              "    }\n",
              "\n",
              "    .colab-df-convert {\n",
              "      background-color: #E8F0FE;\n",
              "      border: none;\n",
              "      border-radius: 50%;\n",
              "      cursor: pointer;\n",
              "      display: none;\n",
              "      fill: #1967D2;\n",
              "      height: 32px;\n",
              "      padding: 0 0 0 0;\n",
              "      width: 32px;\n",
              "    }\n",
              "\n",
              "    .colab-df-convert:hover {\n",
              "      background-color: #E2EBFA;\n",
              "      box-shadow: 0px 1px 2px rgba(60, 64, 67, 0.3), 0px 1px 3px 1px rgba(60, 64, 67, 0.15);\n",
              "      fill: #174EA6;\n",
              "    }\n",
              "\n",
              "    [theme=dark] .colab-df-convert {\n",
              "      background-color: #3B4455;\n",
              "      fill: #D2E3FC;\n",
              "    }\n",
              "\n",
              "    [theme=dark] .colab-df-convert:hover {\n",
              "      background-color: #434B5C;\n",
              "      box-shadow: 0px 1px 3px 1px rgba(0, 0, 0, 0.15);\n",
              "      filter: drop-shadow(0px 1px 2px rgba(0, 0, 0, 0.3));\n",
              "      fill: #FFFFFF;\n",
              "    }\n",
              "  </style>\n",
              "\n",
              "      <script>\n",
              "        const buttonEl =\n",
              "          document.querySelector('#df-4d374279-4bb2-45a3-aebf-c69d5a81af98 button.colab-df-convert');\n",
              "        buttonEl.style.display =\n",
              "          google.colab.kernel.accessAllowed ? 'block' : 'none';\n",
              "\n",
              "        async function convertToInteractive(key) {\n",
              "          const element = document.querySelector('#df-4d374279-4bb2-45a3-aebf-c69d5a81af98');\n",
              "          const dataTable =\n",
              "            await google.colab.kernel.invokeFunction('convertToInteractive',\n",
              "                                                     [key], {});\n",
              "          if (!dataTable) return;\n",
              "\n",
              "          const docLinkHtml = 'Like what you see? Visit the ' +\n",
              "            '<a target=\"_blank\" href=https://colab.research.google.com/notebooks/data_table.ipynb>data table notebook</a>'\n",
              "            + ' to learn more about interactive tables.';\n",
              "          element.innerHTML = '';\n",
              "          dataTable['output_type'] = 'display_data';\n",
              "          await google.colab.output.renderOutput(dataTable, element);\n",
              "          const docLink = document.createElement('div');\n",
              "          docLink.innerHTML = docLinkHtml;\n",
              "          element.appendChild(docLink);\n",
              "        }\n",
              "      </script>\n",
              "    </div>\n",
              "  </div>\n",
              "  "
            ]
          },
          "metadata": {},
          "execution_count": 3
        }
      ],
      "source": [
        "cwk_data = pd.read_csv('cwk_data_lixch37.csv')\n",
        "\n",
        "cwk_data.head(10)"
      ]
    },
    {
      "cell_type": "markdown",
      "source": [
        "## **ENCODING AND CLEANING**\n",
        "\n",
        "---\n",
        "The following code just encodes and cleans the outliers as already shown in summarization and exploratory data analysis sections."
      ],
      "metadata": {
        "id": "I9aW-bgJ0pMp"
      }
    },
    {
      "cell_type": "code",
      "source": [
        "#Encoding\n",
        "from sklearn.preprocessing import OrdinalEncoder\n",
        "\n",
        "encoded_data = cwk_data.copy()\n",
        "ord_enc = OrdinalEncoder(dtype=int)\n",
        "encoded_data[[\"job\",\"marital\",\"education\",\"default\",\"housing\",\"loan\",\"contact\",\"poutcome\",\"y\"]] = ord_enc.fit_transform(cwk_data[[\"job\",\"marital\",\"education\",\"default\",\"housing\",\"loan\",\"contact\",\"poutcome\",\"y\"]])\n",
        "encoded_data.head(10)\n",
        "\n",
        "#Removing outliers\n",
        "encoded_data = encoded_data[encoded_data.balance < 5000]\n",
        "encoded_data = encoded_data[encoded_data.campaign < 30]\n",
        "encoded_data = encoded_data[encoded_data.pdays < 600]\n",
        "encoded_data = encoded_data[encoded_data.previous < 20]"
      ],
      "metadata": {
        "id": "j09sgSoLApfE"
      },
      "execution_count": 4,
      "outputs": []
    },
    {
      "cell_type": "markdown",
      "source": [
        "## **INPUT AND OUTPUT FEATURES**\n",
        "\n",
        "---\n",
        "Now we can split the data into input and output features to fit into models. We will also exclude duration feature from the input variable since duration cannot be known before contacting a person."
      ],
      "metadata": {
        "id": "A7d3CKC-24KV"
      }
    },
    {
      "cell_type": "code",
      "source": [
        "X = encoded_data.loc[:, encoded_data.columns != 'y']\n",
        "y = encoded_data[['y']]\n",
        "\n",
        "X = X.loc[:, X.columns != 'duration']"
      ],
      "metadata": {
        "id": "grZmKQVuGf0X"
      },
      "execution_count": 5,
      "outputs": []
    },
    {
      "cell_type": "markdown",
      "source": [
        "## **LOGISTIC REGRESSION**\n",
        "\n",
        "---\n",
        "Logistic regression is one of the most simplest and easy to implement classifying models. It usually doesn't overfit the data. It is fast and efficient, making it suitable for large data sets."
      ],
      "metadata": {
        "id": "KFtnnLfN4VXH"
      }
    },
    {
      "cell_type": "code",
      "source": [
        "#Initialize classifier from sklearn\n",
        "log_reg_clf = linear_model.LogisticRegression(solver='lbfgs', max_iter=2000)\n",
        "\n",
        "#Fit the data\n",
        "log_reg_model = log_reg_clf.fit(X,y)\n",
        "\n",
        "#Print accuracy\n",
        "print(\"The score for Logisitic regressor is : \" + str(log_reg_model.score(X,y)))\n",
        "\n",
        "#Predict on same data (To check confusion matrix only)\n",
        "y_pred = log_reg_model.predict(X);\n",
        "\n",
        "#Plot the confusion matrix\n",
        "ax= plt.subplot()\n",
        "sns.heatmap(confusion_matrix(y, y_pred), annot=True, fmt='g', ax=ax)\n",
        "plt.show()\n",
        "ax.set_xlabel('Predicted labels');ax.set_ylabel('True labels'); \n",
        "ax.set_title('Confusion Matrix'); \n",
        "ax.xaxis.set_ticklabels(['no', 'yes']); ax.yaxis.set_ticklabels(['no', 'yes']);\n"
      ],
      "metadata": {
        "colab": {
          "base_uri": "https://localhost:8080/",
          "height": 336
        },
        "id": "r9F-sfcXLWJJ",
        "outputId": "d2a75b8e-6e7f-4d0d-b4c4-3dd4f065c060"
      },
      "execution_count": 6,
      "outputs": [
        {
          "output_type": "stream",
          "name": "stderr",
          "text": [
            "/usr/local/lib/python3.8/dist-packages/sklearn/utils/validation.py:993: DataConversionWarning: A column-vector y was passed when a 1d array was expected. Please change the shape of y to (n_samples, ), for example using ravel().\n",
            "  y = column_or_1d(y, warn=True)\n"
          ]
        },
        {
          "output_type": "stream",
          "name": "stdout",
          "text": [
            "The score for Logisitic regressor is : 0.7985649747541855\n"
          ]
        },
        {
          "output_type": "display_data",
          "data": {
            "text/plain": [
              "<Figure size 432x288 with 2 Axes>"
            ],
            "image/png": "[encoded data removed]"
          },
          "metadata": {
            "needs_background": "light"
          }
        }
      ]
    },
    {
      "cell_type": "markdown",
      "source": [
        "## **RANDOM FOREST**\n",
        "\n",
        "---\n",
        "Random forest algorithm can be used both as a classifier and a regressor. It can handle multidimensional data easily and it is fast at both fitting large datasets and predicting them as well."
      ],
      "metadata": {
        "id": "IfFwd6WqCIs8"
      }
    },
    {
      "cell_type": "code",
      "source": [
        "#Initialize classifier from sklearn\n",
        "random_forest_classifier = RandomForestClassifier(max_depth=5,random_state=0)\n",
        "\n",
        "#Fit the data\n",
        "random_forest_model = random_forest_classifier.fit(X,y)\n",
        "\n",
        "#Print accuracy\n",
        "print(\"The score for Random forest is : \" + str(random_forest_model.score(X,y)))\n",
        "\n",
        "#Predict on same data (To check confusion matrix only)\n",
        "y_pred_rf = random_forest_model.predict(X);\n",
        "\n",
        "#Plot the confusion matrix\n",
        "ax= plt.subplot()\n",
        "sns.heatmap(confusion_matrix(y, y_pred_rf), annot=True, fmt='g', ax=ax)\n",
        "plt.show()\n",
        "ax.set_xlabel('Predicted labels');ax.set_ylabel('True labels'); \n",
        "ax.set_title('Confusion Matrix'); \n",
        "ax.xaxis.set_ticklabels(['no', 'yes']); ax.yaxis.set_ticklabels(['no', 'yes']);\n"
      ],
      "metadata": {
        "colab": {
          "base_uri": "https://localhost:8080/",
          "height": 336
        },
        "id": "hQPgjXynVnmx",
        "outputId": "85474ec8-cf79-4d79-8b15-650c230c0734"
      },
      "execution_count": 7,
      "outputs": [
        {
          "output_type": "stream",
          "name": "stderr",
          "text": [
            "<ipython-input-7-e3835dbbde75>:5: DataConversionWarning: A column-vector y was passed when a 1d array was expected. Please change the shape of y to (n_samples,), for example using ravel().\n",
            "  random_forest_model = random_forest_classifier.fit(X,y)\n"
          ]
        },
        {
          "output_type": "stream",
          "name": "stdout",
          "text": [
            "The score for Random forest is : 0.8312516609088493\n"
          ]
        },
        {
          "output_type": "display_data",
          "data": {
            "text/plain": [
              "<Figure size 432x288 with 2 Axes>"
            ],
            "image/png": "[encoded data removed]"
          },
          "metadata": {
            "needs_background": "light"
          }
        }
      ]
    },
    {
      "cell_type": "markdown",
      "source": [
        "## **kNN CLASSIFIER**\n",
        "\n",
        "---\n",
        "K-nearest neighbors (KNN) is another simple and popular classification algorithm. It simply calculates the distance of the data point to its nearest neighbours and predicts the output."
      ],
      "metadata": {
        "id": "VdFAyciqDU7b"
      }
    },
    {
      "cell_type": "code",
      "source": [
        "#Initialize classifier from sklearn\n",
        "knn_classifier = KNeighborsClassifier(n_neighbors=5)\n",
        "\n",
        "#Fit the data\n",
        "knn_model = knn_classifier.fit(X,y);\n",
        "\n",
        "#Print accuracy\n",
        "print(\"The score for kNN classifier is : \" + str(knn_model.score(X,y)))\n",
        "\n",
        "#Predict on same data (To check confusion matrix only)\n",
        "y_pred_knn = knn_model.predict(X);\n",
        "\n",
        "#Plot the confusion matrix\n",
        "ax= plt.subplot()\n",
        "sns.heatmap(confusion_matrix(y, y_pred_knn), annot=True, fmt='g', ax=ax)\n",
        "plt.show()\n",
        "ax.set_xlabel('Predicted labels');ax.set_ylabel('True labels'); \n",
        "ax.set_title('Confusion Matrix'); \n",
        "ax.xaxis.set_ticklabels(['no', 'yes']); ax.yaxis.set_ticklabels(['no', 'yes']);\n"
      ],
      "metadata": {
        "colab": {
          "base_uri": "https://localhost:8080/",
          "height": 336
        },
        "id": "evjMJwAf-zIb",
        "outputId": "a4ebd808-17e8-4f79-d09b-cd1afa2a68c2"
      },
      "execution_count": 8,
      "outputs": [
        {
          "output_type": "stream",
          "name": "stderr",
          "text": [
            "/usr/local/lib/python3.8/dist-packages/sklearn/neighbors/_classification.py:198: DataConversionWarning: A column-vector y was passed when a 1d array was expected. Please change the shape of y to (n_samples,), for example using ravel().\n",
            "  return self._fit(X, y)\n"
          ]
        },
        {
          "output_type": "stream",
          "name": "stdout",
          "text": [
            "The score for kNN classifier is : 0.8320488971565241\n"
          ]
        },
        {
          "output_type": "display_data",
          "data": {
            "text/plain": [
              "<Figure size 432x288 with 2 Axes>"
            ],
            "image/png": "[encoded data removed]"
          },
          "metadata": {
            "needs_background": "light"
          }
        }
      ]
    },
    {
      "cell_type": "markdown",
      "source": [
        "## **SAVE THE MODEL**\n",
        "\n",
        "---\n",
        "We can use pickle to save the model so that it can be used for prediction. Since random forest is providing both good accuracy and a good recall value, we will choose that model to predict new data."
      ],
      "metadata": {
        "id": "pyzf7JQvRkhi"
      }
    },
    {
      "cell_type": "code",
      "source": [
        "#Import pickle\n",
        "import pickle\n",
        "\n",
        "pickle.dump(random_forest_model, open('model.pkl', 'wb'))"
      ],
      "metadata": {
        "id": "YbF_Ah5kSB3S"
      },
      "execution_count": 14,
      "outputs": []
    }
  ]
}